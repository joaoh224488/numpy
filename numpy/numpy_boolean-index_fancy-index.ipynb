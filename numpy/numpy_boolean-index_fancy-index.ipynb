{
 "cells": [
  {
   "cell_type": "markdown",
   "metadata": {},
   "source": [
    "# Indexação booleana e Indexação sofisticada"
   ]
  },
  {
   "cell_type": "code",
   "execution_count": 1,
   "metadata": {},
   "outputs": [],
   "source": [
    "import numpy as np"
   ]
  },
  {
   "cell_type": "markdown",
   "metadata": {},
   "source": [
    "### Indexação booleana\n",
    "\n",
    "INdexação usando condições booleanas como índices.\n"
   ]
  },
  {
   "cell_type": "code",
   "execution_count": 3,
   "metadata": {},
   "outputs": [
    {
     "data": {
      "text/plain": [
       "array(['Bob', 'Joe', 'Will', 'Bob', 'Will', 'Joe', 'Joe'], dtype='<U4')"
      ]
     },
     "execution_count": 3,
     "metadata": {},
     "output_type": "execute_result"
    }
   ],
   "source": [
    "# Supondo o array de nomes:\n",
    "names = np.array(['Bob', 'Joe', 'Will', 'Bob', 'Will', 'Joe', 'Joe'])\n",
    "names"
   ]
  },
  {
   "cell_type": "code",
   "execution_count": 4,
   "metadata": {},
   "outputs": [
    {
     "data": {
      "text/plain": [
       "array([[ 0.73947345,  0.98724169,  1.13123217, -1.02949062],\n",
       "       [-1.20723366,  0.35896087,  2.02415174,  0.65009898],\n",
       "       [-0.17158577,  1.48976441, -0.05629828,  1.77056266],\n",
       "       [ 0.2420822 , -0.09953787,  0.29808304,  0.87867541],\n",
       "       [ 1.16223677,  0.26236136, -3.36980631,  0.80714514],\n",
       "       [-0.17769952, -1.48462945, -0.09217776,  1.12729677],\n",
       "       [ 1.22227662,  0.71531318,  0.71351552,  1.84824873]])"
      ]
     },
     "execution_count": 4,
     "metadata": {},
     "output_type": "execute_result"
    }
   ],
   "source": [
    "data = np.random.randn(7,4)\n",
    "data"
   ]
  },
  {
   "cell_type": "code",
   "execution_count": 6,
   "metadata": {},
   "outputs": [
    {
     "data": {
      "text/plain": [
       "array([ True, False, False,  True, False, False, False])"
      ]
     },
     "execution_count": 6,
     "metadata": {},
     "output_type": "execute_result"
    }
   ],
   "source": [
    "# Ao escrever uma expresssão usando uma expressão que retorna um booleano(verdadeiro ou falso), \n",
    "# o Numpy lerá da seguinte forma:\n",
    "names== 'Bob'"
   ]
  },
  {
   "cell_type": "code",
   "execution_count": 23,
   "metadata": {},
   "outputs": [
    {
     "name": "stdout",
     "output_type": "stream",
     "text": [
      "['Bob' 'Bob']\n",
      "[[ 0.73947345  0.98724169  1.13123217 -1.02949062]\n",
      " [ 0.2420822  -0.09953787  0.29808304  0.87867541]]\n"
     ]
    },
    {
     "ename": "IndexError",
     "evalue": "boolean index did not match indexed array along dimension 0; dimension is 10 but corresponding boolean dimension is 7",
     "output_type": "error",
     "traceback": [
      "\u001b[0;31m---------------------------------------------------------------------------\u001b[0m",
      "\u001b[0;31mIndexError\u001b[0m                                Traceback (most recent call last)",
      "\u001b[0;32m/tmp/ipykernel_31037/82897503.py\u001b[0m in \u001b[0;36m<module>\u001b[0;34m\u001b[0m\n\u001b[1;32m     11\u001b[0m \u001b[0;34m\u001b[0m\u001b[0m\n\u001b[1;32m     12\u001b[0m \u001b[0mcoisa\u001b[0m \u001b[0;34m=\u001b[0m \u001b[0mnp\u001b[0m\u001b[0;34m.\u001b[0m\u001b[0marange\u001b[0m\u001b[0;34m(\u001b[0m\u001b[0;36m10\u001b[0m\u001b[0;34m)\u001b[0m\u001b[0;34m\u001b[0m\u001b[0;34m\u001b[0m\u001b[0m\n\u001b[0;32m---> 13\u001b[0;31m \u001b[0mprint\u001b[0m\u001b[0;34m(\u001b[0m\u001b[0mcoisa\u001b[0m\u001b[0;34m[\u001b[0m\u001b[0mcond\u001b[0m\u001b[0;34m]\u001b[0m\u001b[0;34m)\u001b[0m\u001b[0;34m\u001b[0m\u001b[0;34m\u001b[0m\u001b[0m\n\u001b[0m",
      "\u001b[0;31mIndexError\u001b[0m: boolean index did not match indexed array along dimension 0; dimension is 10 but corresponding boolean dimension is 7"
     ]
    }
   ],
   "source": [
    "# Esse array booleano pode ser passado como index no array original ou em outros com\n",
    "# o mesmo número de elementos\n",
    "bobs = names[names== 'Bob']\n",
    "d_bobs = data[names=='Bob']\n",
    "\n",
    "print(bobs, end='\\n')\n",
    "print(d_bobs)\n",
    "\n",
    "# Caso para um número de index diferente:\n",
    "cond = names == 'Bob' # salvando o array booleano em uma variável\n",
    "\n",
    "coisa = np.arange(10)\n",
    "print(coisa[cond])"
   ]
  },
  {
   "cell_type": "code",
   "execution_count": 28,
   "metadata": {},
   "outputs": [
    {
     "data": {
      "text/plain": [
       "array([-1.02949062,  0.87867541])"
      ]
     },
     "execution_count": 28,
     "metadata": {},
     "output_type": "execute_result"
    }
   ],
   "source": [
    "# Podemos indexar colunas também junto com a condição\n",
    "\n",
    "third_column_d_bob = data[names== 'Bob', 3]\n",
    "third_column_d_bob"
   ]
  },
  {
   "cell_type": "code",
   "execution_count": 29,
   "metadata": {},
   "outputs": [
    {
     "data": {
      "text/plain": [
       "array([[ 1.13123217, -1.02949062],\n",
       "       [ 0.29808304,  0.87867541]])"
      ]
     },
     "execution_count": 29,
     "metadata": {},
     "output_type": "execute_result"
    }
   ],
   "source": [
    "two_columns_d_bob = data[names== 'Bob', 2:]\n",
    "two_columns_d_bob"
   ]
  },
  {
   "cell_type": "code",
   "execution_count": 31,
   "metadata": {},
   "outputs": [
    {
     "data": {
      "text/plain": [
       "array(['Joe', 'Will', 'Will', 'Joe', 'Joe'], dtype='<U4')"
      ]
     },
     "execution_count": 31,
     "metadata": {},
     "output_type": "execute_result"
    }
   ],
   "source": [
    "# Para negar a condição names == 'Bob' sem usar o operador !=, podemos usar ~\n",
    "no_bobs = names[~(names == 'Bob')]\n",
    "no_bobs"
   ]
  },
  {
   "cell_type": "code",
   "execution_count": 32,
   "metadata": {},
   "outputs": [
    {
     "data": {
      "text/plain": [
       "array(['Joe', 'Will', 'Will', 'Joe', 'Joe'], dtype='<U4')"
      ]
     },
     "execution_count": 32,
     "metadata": {},
     "output_type": "execute_result"
    }
   ],
   "source": [
    "# Mais organizado salvar essa condição numa variável, apesar de opcional\n",
    "no_bobs = names[~cond]\n",
    "no_bobs"
   ]
  },
  {
   "cell_type": "code",
   "execution_count": 33,
   "metadata": {},
   "outputs": [
    {
     "data": {
      "text/plain": [
       "array([[-1.20723366,  0.35896087,  2.02415174,  0.65009898],\n",
       "       [-0.17158577,  1.48976441, -0.05629828,  1.77056266],\n",
       "       [ 1.16223677,  0.26236136, -3.36980631,  0.80714514],\n",
       "       [-0.17769952, -1.48462945, -0.09217776,  1.12729677],\n",
       "       [ 1.22227662,  0.71531318,  0.71351552,  1.84824873]])"
      ]
     },
     "execution_count": 33,
     "metadata": {},
     "output_type": "execute_result"
    }
   ],
   "source": [
    "data[~cond]"
   ]
  },
  {
   "cell_type": "code",
   "execution_count": 38,
   "metadata": {},
   "outputs": [
    {
     "data": {
      "text/plain": [
       "array(['Bob', 'Will', 'Bob', 'Will'], dtype='<U4')"
      ]
     },
     "execution_count": 38,
     "metadata": {},
     "output_type": "execute_result"
    }
   ],
   "source": [
    "# Operadores and (&) e or (|) também funcionam:\n",
    "cond = (names == 'Bob') | (names == 'Will')\n",
    "names[cond]"
   ]
  },
  {
   "cell_type": "code",
   "execution_count": 39,
   "metadata": {},
   "outputs": [
    {
     "data": {
      "text/plain": [
       "array([[ 0.73947345,  0.98724169,  1.13123217, -1.02949062],\n",
       "       [-1.20723366,  0.35896087,  2.02415174,  0.65009898],\n",
       "       [-0.17158577,  1.48976441, -0.05629828,  1.77056266],\n",
       "       [ 0.2420822 , -0.09953787,  0.29808304,  0.87867541],\n",
       "       [ 1.16223677,  0.26236136, -3.36980631,  0.80714514],\n",
       "       [-0.17769952, -1.48462945, -0.09217776,  1.12729677],\n",
       "       [ 1.22227662,  0.71531318,  0.71351552,  1.84824873]])"
      ]
     },
     "execution_count": 39,
     "metadata": {},
     "output_type": "execute_result"
    }
   ],
   "source": [
    "# Operadores > e <:\n",
    "# Válido ressaltar que a indexação booleana e o fancy index sempre geram cópias dos dados do array original\n",
    "data"
   ]
  },
  {
   "cell_type": "code",
   "execution_count": 42,
   "metadata": {},
   "outputs": [
    {
     "data": {
      "text/plain": [
       "array([[0.73947345, 0.98724169, 1.13123217, 0.        ],\n",
       "       [0.        , 0.35896087, 2.02415174, 0.65009898],\n",
       "       [0.        , 1.48976441, 0.        , 1.77056266],\n",
       "       [0.2420822 , 0.        , 0.29808304, 0.87867541],\n",
       "       [1.16223677, 0.26236136, 0.        , 0.80714514],\n",
       "       [0.        , 0.        , 0.        , 1.12729677],\n",
       "       [1.22227662, 0.71531318, 0.71351552, 1.84824873]])"
      ]
     },
     "execution_count": 42,
     "metadata": {},
     "output_type": "execute_result"
    }
   ],
   "source": [
    "data[data<0] = 0\n",
    "data"
   ]
  },
  {
   "cell_type": "code",
   "execution_count": 43,
   "metadata": {},
   "outputs": [
    {
     "data": {
      "text/plain": [
       "array([[7.        , 7.        , 7.        , 7.        ],\n",
       "       [0.        , 0.35896087, 2.02415174, 0.65009898],\n",
       "       [7.        , 7.        , 7.        , 7.        ],\n",
       "       [7.        , 7.        , 7.        , 7.        ],\n",
       "       [7.        , 7.        , 7.        , 7.        ],\n",
       "       [0.        , 0.        , 0.        , 1.12729677],\n",
       "       [1.22227662, 0.71531318, 0.71351552, 1.84824873]])"
      ]
     },
     "execution_count": 43,
     "metadata": {},
     "output_type": "execute_result"
    }
   ],
   "source": [
    "data[names != 'Joe'] = 7\n",
    "\n",
    "data"
   ]
  },
  {
   "cell_type": "markdown",
   "metadata": {},
   "source": [
    "### Indexação sofisticada (Fancy indexing)\n",
    "Trata-se da indexação usando arrays de inteiros como índices."
   ]
  },
  {
   "cell_type": "code",
   "execution_count": 48,
   "metadata": {},
   "outputs": [
    {
     "data": {
      "text/plain": [
       "array([[0., 0., 0., 0.],\n",
       "       [1., 1., 1., 1.],\n",
       "       [2., 2., 2., 2.],\n",
       "       [3., 3., 3., 3.],\n",
       "       [4., 4., 4., 4.],\n",
       "       [5., 5., 5., 5.],\n",
       "       [6., 6., 6., 6.],\n",
       "       [7., 7., 7., 7.]])"
      ]
     },
     "execution_count": 48,
     "metadata": {},
     "output_type": "execute_result"
    }
   ],
   "source": [
    "arr = np.empty((8,4)) # Empty cria arrays vazios com números que estão na memória\n",
    "for i in range(len(arr)):\n",
    "    arr[i] = i\n",
    "arr"
   ]
  },
  {
   "cell_type": "code",
   "execution_count": 49,
   "metadata": {},
   "outputs": [
    {
     "data": {
      "text/plain": [
       "array([[4., 4., 4., 4.],\n",
       "       [3., 3., 3., 3.],\n",
       "       [0., 0., 0., 0.],\n",
       "       [5., 5., 5., 5.]])"
      ]
     },
     "execution_count": 49,
     "metadata": {},
     "output_type": "execute_result"
    }
   ],
   "source": [
    "# Para selecionar um subconjunto em uma ordem particular, podemos apenas passar uma lista ou np.array\n",
    "# como índice.\n",
    "\n",
    "arr[[4, 3, 0, 5]]"
   ]
  },
  {
   "cell_type": "code",
   "execution_count": 53,
   "metadata": {},
   "outputs": [
    {
     "data": {
      "text/plain": [
       "array([[4., 4.],\n",
       "       [3., 3.],\n",
       "       [0., 0.],\n",
       "       [5., 5.]])"
      ]
     },
     "execution_count": 53,
     "metadata": {},
     "output_type": "execute_result"
    }
   ],
   "source": [
    "# Note que a lista está no primeiro parâmetro mexendo no segundo para selecionar \n",
    "# apenas a primeira e a segunda coluna:\n",
    "arr[[4, 3, 0, 5], :2]"
   ]
  },
  {
   "cell_type": "code",
   "execution_count": 55,
   "metadata": {},
   "outputs": [
    {
     "data": {
      "text/plain": [
       "array([[5., 5., 5., 5.],\n",
       "       [3., 3., 3., 3.],\n",
       "       [0., 0., 0., 0.]])"
      ]
     },
     "execution_count": 55,
     "metadata": {},
     "output_type": "execute_result"
    }
   ],
   "source": [
    "# Podemos usar índices negativos como nas listas:\n",
    "arr[[-3, -5, -8]]"
   ]
  },
  {
   "cell_type": "code",
   "execution_count": null,
   "metadata": {},
   "outputs": [],
   "source": [
    "# Para o próximo exemplo, criaremos uma "
   ]
  }
 ],
 "metadata": {
  "interpreter": {
   "hash": "4e7e4edc79d43486975e43ffb9f70caa5d73df88ab12157b795d6266fbee6759"
  },
  "kernelspec": {
   "display_name": "Python 3.9.7 ('base')",
   "language": "python",
   "name": "python3"
  },
  "language_info": {
   "codemirror_mode": {
    "name": "ipython",
    "version": 3
   },
   "file_extension": ".py",
   "mimetype": "text/x-python",
   "name": "python",
   "nbconvert_exporter": "python",
   "pygments_lexer": "ipython3",
   "version": "3.9.7"
  },
  "orig_nbformat": 4
 },
 "nbformat": 4,
 "nbformat_minor": 2
}
