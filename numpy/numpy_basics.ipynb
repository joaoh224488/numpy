{
 "cells": [
  {
   "cell_type": "code",
   "execution_count": 16,
   "metadata": {},
   "outputs": [],
   "source": [
    "import numpy as np"
   ]
  },
  {
   "cell_type": "markdown",
   "metadata": {},
   "source": [
    "# Primeiros passos:"
   ]
  },
  {
   "cell_type": "markdown",
   "metadata": {},
   "source": [
    "### Criando um array:"
   ]
  },
  {
   "cell_type": "code",
   "execution_count": 17,
   "metadata": {},
   "outputs": [],
   "source": [
    "a = np.array([1,2,3])\n",
    "b = np.array([[10,12,15], [12,14,19]])\n",
    "c = np.array([[[1,2, 8], [3, 4, 9]], [[5, 6, 10], [7, 8, 25]]])"
   ]
  },
  {
   "cell_type": "markdown",
   "metadata": {},
   "source": [
    "### Dimensões:\n",
    "<p>Dimensões em arrays se trata do nível de complexidade do conjunto de números. </p>\n",
    "<p>Digamos, uma lista de números terá apenas uma dimensão.</p>\n",
    "<p>Uma lista de listas terá duas dimensões.</p>\n",
    "<p>Uma lista de listas de listas terá três dimensões, e assim sucessivamente...</p>"
   ]
  },
  {
   "cell_type": "code",
   "execution_count": 18,
   "metadata": {},
   "outputs": [
    {
     "name": "stdout",
     "output_type": "stream",
     "text": [
      "a=\n",
      " [1 2 3]\n",
      " o número de dimensões de a é: 1\n",
      "\n",
      "b=\n",
      " [[10 12 15]\n",
      " [12 14 19]]\n",
      " o número de dimensões de b é: 2\n",
      "\n",
      "c=\n",
      " [[[ 1  2  8]\n",
      "  [ 3  4  9]]\n",
      "\n",
      " [[ 5  6 10]\n",
      "  [ 7  8 25]]]\n",
      " o número de dimensões de c é: 3\n",
      "\n"
     ]
    }
   ],
   "source": [
    "print(f'''a=\n",
    " {a}\n",
    " o número de dimensões de a é: {a.ndim}\\n''')\n",
    "\n",
    "print(f'''b=\n",
    " {b}\n",
    " o número de dimensões de b é: {b.ndim}\\n''')\n",
    "\n",
    "print(f'''c=\n",
    " {c}\n",
    " o número de dimensões de c é: {c.ndim}\\n''')"
   ]
  },
  {
   "cell_type": "markdown",
   "metadata": {},
   "source": [
    "### Shape\n",
    "<p> O shape de um array se trata da sua forma. De forma prática, a função shape retornará uma tupla com a seguinte forma: </p>\n",
    "\n",
    "<p>1 dimensão: (n° de colunas, ) </p>\n",
    "<p>2 dimensões: (n° de linhas, n° de colunas)</p>\n",
    "<p>3 dimensões: (n° de linhas, n° de colunas, n° de elementos por sub array)</p>"
   ]
  },
  {
   "cell_type": "code",
   "execution_count": 19,
   "metadata": {},
   "outputs": [
    {
     "name": "stdout",
     "output_type": "stream",
     "text": [
      "(3,)\n",
      "(2, 3)\n",
      "(2, 2, 3)\n"
     ]
    }
   ],
   "source": [
    "print(a.shape)\n",
    "print(b.shape)\n",
    "print(c.shape)"
   ]
  },
  {
   "cell_type": "markdown",
   "metadata": {},
   "source": [
    "Como shape retorna uma tupla, pode servir para mudar a forma de um array como nos exemplos abaixo:"
   ]
  },
  {
   "cell_type": "code",
   "execution_count": 20,
   "metadata": {},
   "outputs": [
    {
     "name": "stdout",
     "output_type": "stream",
     "text": [
      "[[1 2 3 4]\n",
      " [5 6 7 8]]\n"
     ]
    }
   ],
   "source": [
    "d = np.array([[1, 2, 3, 4], [5,6,7,8]])\n",
    "print(d)"
   ]
  },
  {
   "cell_type": "code",
   "execution_count": 21,
   "metadata": {},
   "outputs": [
    {
     "name": "stdout",
     "output_type": "stream",
     "text": [
      "[[1 2 3 4 5 6 7 8]]\n"
     ]
    }
   ],
   "source": [
    "d.shape= (1, 8)\n",
    "print(d)"
   ]
  },
  {
   "cell_type": "code",
   "execution_count": 23,
   "metadata": {},
   "outputs": [
    {
     "name": "stdout",
     "output_type": "stream",
     "text": [
      "[[1 2]\n",
      " [3 4]\n",
      " [5 6]\n",
      " [7 8]]\n"
     ]
    }
   ],
   "source": [
    "d.shape=(4,2)\n",
    "print(d)"
   ]
  },
  {
   "cell_type": "markdown",
   "metadata": {},
   "source": [
    "### dtype, itemsize, size, nbytes\n",
    "<p>dtype retornará o tipo de variável dos elementos no array no terminal;</p>\n",
    "<p>itemsize retornará um número inteiro que representa a quantidade de bytes ocupado por cada elemento do array na memória do sistema; </p>\n",
    "<p>size retorna a quantidade de elementos por subarray; </p>\n",
    "<p>nbytes retorna a quantidade bytes que o array ocupa no sistema.</p>"
   ]
  },
  {
   "cell_type": "code",
   "execution_count": 25,
   "metadata": {},
   "outputs": [
    {
     "data": {
      "text/plain": [
       "dtype('int64')"
      ]
     },
     "execution_count": 25,
     "metadata": {},
     "output_type": "execute_result"
    }
   ],
   "source": [
    "d.dtype"
   ]
  },
  {
   "cell_type": "markdown",
   "metadata": {},
   "source": [
    "Para especificar o tipo de variável desejada na construção do array:"
   ]
  },
  {
   "cell_type": "code",
   "execution_count": 26,
   "metadata": {},
   "outputs": [
    {
     "data": {
      "text/plain": [
       "dtype('int32')"
      ]
     },
     "execution_count": 26,
     "metadata": {},
     "output_type": "execute_result"
    }
   ],
   "source": [
    "d = np.array([[1, 2, 3, 4], [5,6,7,8]], dtype= 'int32')\n",
    "d.dtype"
   ]
  },
  {
   "cell_type": "code",
   "execution_count": 27,
   "metadata": {},
   "outputs": [
    {
     "name": "stdout",
     "output_type": "stream",
     "text": [
      "4\n"
     ]
    }
   ],
   "source": [
    "memoria_item = d.itemsize\n",
    "\n",
    "print(memoria_item)"
   ]
  },
  {
   "cell_type": "code",
   "execution_count": 28,
   "metadata": {},
   "outputs": [
    {
     "name": "stdout",
     "output_type": "stream",
     "text": [
      "8\n"
     ]
    }
   ],
   "source": [
    "qt_elementos = d.size\n",
    "\n",
    "print(qt_elementos)"
   ]
  },
  {
   "cell_type": "code",
   "execution_count": 29,
   "metadata": {},
   "outputs": [
    {
     "name": "stdout",
     "output_type": "stream",
     "text": [
      "32\n"
     ]
    }
   ],
   "source": [
    "memoria_array = d.nbytes\n",
    "print(memoria_array)"
   ]
  }
 ],
 "metadata": {
  "interpreter": {
   "hash": "916dbcbb3f70747c44a77c7bcd40155683ae19c65e1c03b4aa3499c5328201f1"
  },
  "kernelspec": {
   "display_name": "Python 3.8.10 64-bit",
   "language": "python",
   "name": "python3"
  },
  "language_info": {
   "codemirror_mode": {
    "name": "ipython",
    "version": 3
   },
   "file_extension": ".py",
   "mimetype": "text/x-python",
   "name": "python",
   "nbconvert_exporter": "python",
   "pygments_lexer": "ipython3",
   "version": "3.9.7"
  },
  "orig_nbformat": 4
 },
 "nbformat": 4,
 "nbformat_minor": 2
}
